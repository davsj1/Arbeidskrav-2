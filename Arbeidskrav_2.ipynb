{
 "cells": [
  {
   "cell_type": "markdown",
   "id": "55253766-240b-4f9a-80db-598a64ce04d4",
   "metadata": {},
   "source": [
    "<h1>Arbeidskrav 2</h1>\n",
    "\n",
    "<p>Oppg 1)  Du skal her lage et program som skal starter med  \n",
    "alder = int(input('Hvilket år er du født? ') ) \n",
    "Programmet skal så regne ut hvor gammel personen blir nå i løpet av år 2024 og skrive \n",
    "svaret til skjerm med passende tekst.</p>"
   ]
  },
  {
   "cell_type": "code",
   "execution_count": 4,
   "id": "6fd335d3-d332-4522-9fb2-291ec1db8da3",
   "metadata": {},
   "outputs": [
    {
     "name": "stdin",
     "output_type": "stream",
     "text": [
      "Hvilket år er du født?  1992\n"
     ]
    },
    {
     "name": "stdout",
     "output_type": "stream",
     "text": [
      "i løpet av 2024 blir du 32 år.\n"
     ]
    }
   ],
   "source": [
    "DOB = int(input('Hvilket år er du født? ') )  # DOB = Date of Birth\n",
    "\n",
    "alder_2024 = 2024 - DOB\n",
    "print(f\"i løpet av 2024 blir du {alder_2024} år.\")\n"
   ]
  },
  {
   "cell_type": "markdown",
   "id": "b198fb70-7802-44a6-bf74-125589d5c08b",
   "metadata": {},
   "source": [
    "<p> Oppg 2)  Det skal arrangeres en klassefest og man antar at hver elev spiser 1/4 pizza. Lag et \n",
    "program som tar inn antall elever fra konsollen ved  \n",
    "\n",
    "antall_elever = int(input('Skriv inn antall elever:' )) \n",
    "\n",
    "Programmet skal så regne ut hvor mange pizzaer som skal handles inn til festen og skrive \n",
    "svaret til skjerm. Merk, man kan ikke kjøpe 4 og en kvart pizza på butikken (man må da kjøpe \n",
    "5).    \n",
    "\n",
    "Hint1: Gir programmet ditt et fornuftig svar hvis det f.eks er 21 elever i klassen?  \n",
    "Hint2: Det er ikke vanlig å si/skrive: ‘Det må handles inn 6.0 pizzaer til festen’. \n",
    "Hvordan kan sikre at antall pizzaer skrives ut som et heltall (ikke desimaltall)?  </p>"
   ]
  },
  {
   "cell_type": "code",
   "execution_count": 7,
   "id": "e4dbdff0-10b6-4a54-ae5f-fb7800be9db9",
   "metadata": {},
   "outputs": [
    {
     "name": "stdin",
     "output_type": "stream",
     "text": [
      "Skriv inn antall elever: 24\n"
     ]
    },
    {
     "name": "stdout",
     "output_type": "stream",
     "text": [
      "Det må kjøpes 6 til festen.\n"
     ]
    }
   ],
   "source": [
    "import math \n",
    "\n",
    "antall_elever = int(input('Skriv inn antall elever:' ))\n",
    "pizza = antall_elever * 1/4 \n",
    "pizza_rundeopp = math.ceil(pizza)\n",
    "\n",
    "print(f\"Det må kjøpes {pizza_rundeopp} til festen.\")    # skriver ut resultat med tekst\n"
   ]
  },
  {
   "cell_type": "markdown",
   "id": "665e1f81-1fab-4b29-b4db-b36080e9165b",
   "metadata": {},
   "source": [
    "<p> Oppg 3)  Lag et program med en funksjon som regner om fra grader til radianer. \n",
    "Programmet skal starte med:  \n",
    "    \n",
    "import numpy as np  \n",
    "v_grad = float(input('Skriv inn gradtallet:' )) \n",
    "\n",
    "Radiantallet til vinkelen regnes så ut ved følgende formel:  \n",
    "v_rad = v_grad*np.pi/180 \n",
    "Resultatet v_rad skrives til skjerm med passende tekst og verdi.   \n",
    "Merk: np.pi er en ferdiglaget funksjon som gir verdien 3.1415....</p>"
   ]
  },
  {
   "cell_type": "code",
   "execution_count": 9,
   "id": "4738c318-811e-4664-b557-f90333b28544",
   "metadata": {},
   "outputs": [
    {
     "name": "stdin",
     "output_type": "stream",
     "text": [
      "Skriv inn gradtallet:  90\n"
     ]
    },
    {
     "name": "stdout",
     "output_type": "stream",
     "text": [
      "90.0 grader tilsvarer 1.5708 radianer.\n"
     ]
    }
   ],
   "source": [
    "import numpy as np\n",
    "\n",
    "# Funksjon som konverterer grader til radianer\n",
    "def grader_til_radianer(v_grad):\n",
    "    v_rad = v_grad * np.pi / 180\n",
    "    return v_rad\n",
    "\n",
    "# Spør brukeren om gradtallet\n",
    "v_grad = float(input(\"Skriv inn gradtallet: \"))\n",
    "\n",
    "# Kall funksjonen og lagre resultatet\n",
    "v_rad = grader_til_radianer(v_grad)\n",
    "\n",
    "print(f\"{v_grad} grader tilsvarer {v_rad:.4f} radianer.\")\n",
    "\n"
   ]
  },
  {
   "cell_type": "markdown",
   "id": "d95eb979-66b2-4689-9859-183b9d587e67",
   "metadata": {},
   "source": [
    "<p> Oppg 4a)   \n",
    "Opprett en dictionary som gitt under. Dictionaryen har ulike land som nøkkel (Keys) \n",
    "og gir info om hovedstaden i landet og antall innbyggere i mill. i hovedstaden.  \n",
    "</p>"
   ]
  },
  {
   "cell_type": "code",
   "execution_count": null,
   "id": "f5b9a7f7-bcc6-4c4c-b261-6dffc1e7e750",
   "metadata": {},
   "outputs": [],
   "source": [
    "data = {\n",
    "    \"Norge\":[\"Oslo\", 0.634],\n",
    "    \"England\": [\"London\", 8.982],\n",
    "    \"Frankrike\": [\"Paris\", 2.161]\n",
    "    \"Italia\": [\"Roma\", 2.873]\n",
    "    }\n"
   ]
  },
  {
   "cell_type": "markdown",
   "id": "8f460bfc-b8cc-48b6-833d-998acf66f071",
   "metadata": {},
   "source": [
    "<p>4b) Lag et program som ber brukeren skrive inn et land (eksempelvis England). \n",
    "Programmet skal på bakgrunn av dette skrive ut følgende setning: \n",
    "London er hovedstaden i England og det er 8.982 mill. innbyggere i London  </p>"
   ]
  },
  {
   "cell_type": "code",
   "execution_count": 13,
   "id": "4bb35f83-4ad2-46ff-83ab-d0720af479e2",
   "metadata": {},
   "outputs": [
    {
     "name": "stdin",
     "output_type": "stream",
     "text": [
      "Skriv inn et land:  Norge\n"
     ]
    },
    {
     "name": "stdout",
     "output_type": "stream",
     "text": [
      "Oslo er hovedstaden i Norge og det er 0.634 mill. innbyggere i Oslo.\n"
     ]
    }
   ],
   "source": [
    "# Dictionary med land, hovedstad og innbyggertall\n",
    "data = {\n",
    "    \"Norge\": [\"Oslo\", 0.634],\n",
    "    \"England\": [\"London\", 8.982],\n",
    "    \"Frankrike\": [\"Paris\", 2.161],\n",
    "    \"Italia\": [\"Roma\", 2.873]\n",
    "}\n",
    "\n",
    "# Spør brukeren om et land\n",
    "land = input(\"Skriv inn et land: \")\n",
    "\n",
    "# Sjekk om landet finnes i dictionaryen\n",
    "if land in data:\n",
    "    hovedstad, innbyggere = data[land]\n",
    "    print(f\"{hovedstad} er hovedstaden i {land} og det er {innbyggere} mill. innbyggere i {hovedstad}.\")\n",
    "else:\n",
    "    print(\"Beklager, informasjon om dette landet finnes ikke.\")\n"
   ]
  },
  {
   "cell_type": "markdown",
   "id": "cf515ab9-6769-4ce1-892d-0d913993f27a",
   "metadata": {},
   "source": [
    "<p>4c) Lag et program som ber brukeren skrive inn info om et nytt land (altså et land som \n",
    "ikke allerede finnes i dictionaryen data). Videre skal brukeren oppgi hovedstad og \n",
    "antall innbyggere for det «nye» landet. Programmet skal så utvide/oppdatere \n",
    "dictionaryen med den nye informasjonen. Dictionaryen data skrives så til skjerm.</p>"
   ]
  },
  {
   "cell_type": "code",
   "execution_count": 1,
   "id": "56c195ea-bde3-44cf-a679-18ab213ac837",
   "metadata": {},
   "outputs": [
    {
     "name": "stdin",
     "output_type": "stream",
     "text": [
      "Skriv inn navnet på et nytt land:  Mars\n",
      "Hva er hovedstaden i Mars?  Mars City\n",
      "Hvor mange millioner innbyggere er det i Mars City?  1337\n"
     ]
    },
    {
     "name": "stdout",
     "output_type": "stream",
     "text": [
      "\n",
      "Oppdatert database:\n",
      "Norge: Hovedstad = Oslo, Innbyggere = 0.634 mill.\n",
      "England: Hovedstad = London, Innbyggere = 8.982 mill.\n",
      "Frankrike: Hovedstad = Paris, Innbyggere = 2.161 mill.\n",
      "Italia: Hovedstad = Roma, Innbyggere = 2.873 mill.\n",
      "Mars: Hovedstad = Mars City, Innbyggere = 1337.0 mill.\n"
     ]
    }
   ],
   "source": [
    "# Eksisterende dictionary med land, hovedstad og innbyggertall\n",
    "data = {\n",
    "    \"Norge\": [\"Oslo\", 0.634],\n",
    "    \"England\": [\"London\", 8.982],\n",
    "    \"Frankrike\": [\"Paris\", 2.161],\n",
    "    \"Italia\": [\"Roma\", 2.873]\n",
    "}\n",
    "\n",
    "# Spør brukeren om nytt land\n",
    "nytt_land = input(\"Skriv inn navnet på et nytt land: \")\n",
    "\n",
    "# Sjekk om landet allerede finnes\n",
    "if nytt_land in data:\n",
    "    print(f\"{nytt_land} finnes allerede i databasen.\")\n",
    "else:\n",
    "    # Spør om hovedstad og innbyggertall\n",
    "    hovedstad = input(f\"Hva er hovedstaden i {nytt_land}? \")\n",
    "    innbyggere = float(input(f\"Hvor mange millioner innbyggere er det i {hovedstad}? \"))\n",
    "\n",
    "    # Legg til ny informasjon i dictionaryen\n",
    "    data[nytt_land] = [hovedstad, innbyggere]\n",
    "\n",
    "    # Skriv ut oppdatert dictionary\n",
    "    print(\"\\nOppdatert database:\")\n",
    "    for land, info in data.items():\n",
    "        print(f\"{land}: Hovedstad = {info[0]}, Innbyggere = {info[1]} mill.\")\n"
   ]
  },
  {
   "cell_type": "markdown",
   "id": "f0cee91d-53d3-4aa3-b0b0-eb006bc9580e",
   "metadata": {},
   "source": [
    "<p> Oppg 5)  Lag et program med en funksjon som tar a og b som inn-argumenter og som så \n",
    "regner ut arealet og «ytre» omkrets til en figur satt sammen av en rettvinklet trekant og en \n",
    "halvsirkel, se figuren under.  Med «ytre» omkrets menes samlet lengde av de sorte strekene. \n",
    "Funksjonen skal returnere arealet og «ytre» omkrets, som så skrives til skjerm med passende \n",
    "tekst.  </p>"
   ]
  },
  {
   "cell_type": "code",
   "execution_count": 15,
   "id": "a415f64a-968d-444e-afff-728ec8bbbe0b",
   "metadata": {},
   "outputs": [
    {
     "name": "stdin",
     "output_type": "stream",
     "text": [
      "Skriv inn lengde a:  2\n",
      "Skriv inn lengde b:  5\n"
     ]
    },
    {
     "name": "stdout",
     "output_type": "stream",
     "text": [
      "Arealet av figuren er: 6.57\n",
      "Ytre omkrets av figuren er: 13.53\n"
     ]
    }
   ],
   "source": [
    "import numpy as np\n",
    "\n",
    "def figur_egenskaper(a, b):\n",
    "\n",
    "    areal_trekant = (a * b) / 2\n",
    "    radius = a / 2\n",
    "    areal_halvsirkel = (np.pi * radius**2) / 2\n",
    "\n",
    "    # Total areal\n",
    "    total_areal = areal_trekant + areal_halvsirkel\n",
    "\n",
    "    # Omkrets:\n",
    "    # To kateter: a + b\n",
    "    # Hypotenus: √(a² + b²)\n",
    "    # Halvsirkelens bue: (π * a) / 2\n",
    "    hypotenus = np.sqrt(a**2 + b**2)\n",
    "    bue_halvsirkel = (np.pi * a) / 2\n",
    "\n",
    "    ytre_omkrets = b + hypotenus + bue_halvsirkel\n",
    "\n",
    "    # Skrive ut resultatene\n",
    "    print(f\"Arealet av figuren er: {total_areal:.2f}\")\n",
    "    print(f\"Ytre omkrets av figuren er: {ytre_omkrets:.2f}\")\n",
    "\n",
    "# Eksempelbruk\n",
    "a = float(input(\"Skriv inn lengde a: \"))\n",
    "b = float(input(\"Skriv inn lengde b: \"))\n",
    "figur_egenskaper(a, b)\n"
   ]
  },
  {
   "cell_type": "markdown",
   "id": "fad1800b-ba38-440e-a3d8-243732db0336",
   "metadata": {},
   "source": [
    "<p>Oppg 6) Skriv en kode som plotter funksjonen 𝑓(𝑥) = −𝑥2 − 5, for x på intervallet [-10,10]. \n",
    "Hint: np.linspace(-10, 10, 200) gir en array med 200 punkter jevnt fordelt på intervallet         \n",
    "[-10,10]. </p>"
   ]
  },
  {
   "cell_type": "code",
   "execution_count": 5,
   "id": "4b1feec7-78e1-48db-a7dc-57044f52693a",
   "metadata": {},
   "outputs": [
    {
     "data": {
      "image/png": "[encoded data removed]",
      "text/plain": [
       "<Figure size 640x480 with 1 Axes>"
      ]
     },
     "metadata": {},
     "output_type": "display_data"
    }
   ],
   "source": [
    "import numpy as np\n",
    "import matplotlib.pyplot as plt\n",
    "\n",
    "# Definer x-verdiene: 200 jevnt fordelte punkter fra -10 til 10\n",
    "x = np.linspace(-10, 10, 200)\n",
    "\n",
    "f_x = -x**2 - 5  # Definer funksjonen f(x) = -x^2 - 5\n",
    "\n",
    "\n",
    "plt.plot(x, f_x, label='f(x) = -x² - 5', color='blue')\n",
    "plt.title('f(x) = -x² - 5')\n",
    "plt.xlabel('')\n",
    "plt.ylabel('')\n",
    "plt.grid(True)\n",
    "plt.show()\n",
    "\n"
   ]
  }
 ],
 "metadata": {
  "kernelspec": {
   "display_name": "Python [conda env:base] *",
   "language": "python",
   "name": "conda-base-py"
  },
  "language_info": {
   "codemirror_mode": {
    "name": "ipython",
    "version": 3
   },
   "file_extension": ".py",
   "mimetype": "text/x-python",
   "name": "python",
   "nbconvert_exporter": "python",
   "pygments_lexer": "ipython3",
   "version": "3.13.5"
  }
 },
 "nbformat": 4,
 "nbformat_minor": 5
}
